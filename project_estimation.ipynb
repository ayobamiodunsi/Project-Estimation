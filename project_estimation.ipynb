{
 "cells": [
  {
   "cell_type": "code",
   "execution_count": 1,
   "id": "78ca202b",
   "metadata": {},
   "outputs": [
    {
     "name": "stdout",
     "output_type": "stream",
     "text": [
      "CPU times: total: 4.77 s\n",
      "Wall time: 37 s\n"
     ]
    }
   ],
   "source": [
    "%%time\n",
    "import numpy as np\n",
    "import pandas as pd\n",
    "import math  \n",
    "import matplotlib.pyplot as plt\n",
    "from scipy.interpolate import interp1d\n",
    "from scipy import stats\n",
    "\n"
   ]
  },
  {
   "cell_type": "code",
   "execution_count": 2,
   "id": "05e7442f",
   "metadata": {},
   "outputs": [],
   "source": [
    "no_of_experiments = 10000000\n",
    "num_bins = 100\n",
    "\n",
    "tasks = {\n",
    "    \"Task 1\": [4,7, 12],\n",
    "}\n",
    "\n",
    "data = pd.DataFrame(tasks, index=[\"optimistic\", \"likely\", \n",
    "                                  \"pessimistic\"])\n",
    "points = [0] * no_of_experiments\n",
    "\n",
    "for column in data:\n",
    "    a, b, c = data[column][0], data[column][1], data[column][2]\n",
    "    alpha = ((4*b) + c - (5*a))/(c - a)\n",
    "    beta = ((5*c) - a - (4*b))/(c - a)\n",
    "    r = np.random.beta(alpha, beta, no_of_experiments)\n",
    "    p = (r*(c-a)) + a\n",
    "    points += p\n",
    "\n"
   ]
  },
  {
   "cell_type": "code",
   "execution_count": 3,
   "id": "272b5542",
   "metadata": {},
   "outputs": [
    {
     "data": {
      "image/png": "[encoded data removed]",
      "text/plain": [
       "<Figure size 864x576 with 1 Axes>"
      ]
     },
     "metadata": {
      "needs_background": "light"
     },
     "output_type": "display_data"
    }
   ],
   "source": [
    "plt.figure(figsize=(12,8))\n",
    "n, bins, patches = plt.hist(points, num_bins, \n",
    "                            range = (0, np.max(points)),\n",
    "                            color = \"skyblue\", lw=1, \n",
    "                            edgecolor=\"steelblue\", \n",
    "                            weights=[1/no_of_experiments]*\n",
    "                            no_of_experiments)\n",
    "plt.show() "
   ]
  },
  {
   "cell_type": "code",
   "execution_count": 4,
   "id": "9824c197",
   "metadata": {},
   "outputs": [
    {
     "name": "stdout",
     "output_type": "stream",
     "text": [
      "Tasks\n",
      "-----\n",
      "        optimistic  likely  pessimistic\n",
      "Task 1           4       7           12\n",
      "Total            4       7           12\n",
      "\n",
      "Statistics\n",
      "----------\n",
      "minimum: 4.0 maximum: 12.0\n",
      "mean: 7.3\n",
      "standard deviation: 1.5\n",
      "skewness: 0.22\n",
      "kurtosis: -0.60\n",
      "\n",
      "Probabilities\n",
      "-------------\n",
      "* between 7.0 and 7.7 : 33.1% (within 0.5σ)\n",
      "* between 6.6 and 8.1 : 64.7% (within 1σ)\n",
      "* between 5.8 and 8.8 : 97.2% (within 2σ)\n",
      "* between 5.1 and 9.6 : 100.0% (within 3σ)\n"
     ]
    }
   ],
   "source": [
    "_, minmax, mean, var, skewness, kurtosis = stats.describe(points)\n",
    "sd = math.sqrt(var)\n",
    "\n",
    "print(\"Tasks\")\n",
    "print(\"-----\")\n",
    "data[\"Total\"] = data.sum(axis=1).values\n",
    "print(data.T)\n",
    "print()\n",
    "\n",
    "print(\"Statistics\")\n",
    "print(\"----------\")\n",
    "print(\"minimum:\", \"%.1f\" % minmax[0], \"maximum:\", \n",
    "      \"%.1f\" % minmax[1])\n",
    "print(\"mean:\", \"%.1f\" %  mean)\n",
    "print(\"standard deviation:\", \"%.1f\" % sd)\n",
    "print(\"skewness:\", \"%.2f\" % skewness)\n",
    "print(\"kurtosis:\", \"%.2f\" % kurtosis)\n",
    "print()\n",
    "\n",
    "# prints out the probability\n",
    "def print_probability(bins, mean, sd, experiments, fraction):\n",
    "    upper = len(np.where(bins <= mean + sd)[0])\n",
    "    lower = len(np.where(bins <= mean - sd)[0])\n",
    "    prob = (np.sum(n[:upper])-np.sum(n[:lower]))*100\n",
    "    print(\"* between\", \"%.1f\" % (mean-sd/2), \"and\", \n",
    "          \"%.1f\" % (mean+sd/2), \":\", \"%.1f%%\" % prob, \n",
    "          \"(within %sσ)\" % fraction)\n",
    "\n",
    "print(\"Probabilities\")\n",
    "print(\"-------------\")\n",
    "print_probability(bins, mean, sd/2, no_of_experiments, \"0.5\")\n",
    "print_probability(bins, mean, sd, no_of_experiments, \"1\")\n",
    "print_probability(bins, mean, 2*sd, no_of_experiments, \"2\")\n",
    "print_probability(bins, mean, 3*sd, no_of_experiments, \"3\")"
   ]
  },
  {
   "cell_type": "code",
   "execution_count": null,
   "id": "5ffdb571",
   "metadata": {},
   "outputs": [],
   "source": []
  }
 ],
 "metadata": {
  "kernelspec": {
   "display_name": "Python 3 (ipykernel)",
   "language": "python",
   "name": "python3"
  },
  "language_info": {
   "codemirror_mode": {
    "name": "ipython",
    "version": 3
   },
   "file_extension": ".py",
   "mimetype": "text/x-python",
   "name": "python",
   "nbconvert_exporter": "python",
   "pygments_lexer": "ipython3",
   "version": "3.9.12"
  }
 },
 "nbformat": 4,
 "nbformat_minor": 5
}
